{
 "cells": [
  {
   "cell_type": "markdown",
   "metadata": {},
   "source": [
    "# Advanced Object-Oriented-Programming (OOP)"
   ]
  },
  {
   "cell_type": "markdown",
   "metadata": {},
   "source": [
    "## Tasks Today:\n",
    "\n",
    "1) <b>Creating Multiple Instances Through Loops</b> <br>\n",
    " &nbsp;&nbsp;&nbsp;&nbsp; a) Using Loops <br>\n",
    " &nbsp;&nbsp;&nbsp;&nbsp; b) Using Multiple Lists with Loops <br>\n",
    " &nbsp;&nbsp;&nbsp;&nbsp; c) Using List Comprehension with Classes<br>\n",
    " &nbsp;&nbsp;&nbsp;&nbsp; d) In-Class Exercise #1 <br>\n",
    "2) <b>Magic Methods</b> <br>\n",
    " &nbsp;&nbsp;&nbsp;&nbsp; a) \\__str\\__ <br>\n",
    " &nbsp;&nbsp;&nbsp;&nbsp; b) \\__add\\__ <br>\n",
    " &nbsp;&nbsp;&nbsp;&nbsp; c) Overriding Magic Methods <br>\n",
    " &nbsp;&nbsp;&nbsp;&nbsp; d) In-Class Exercise #2 <br>\n",
    "3) <b>Inheritance & Method Overriding (recap)</b> <br>\n",
    " &nbsp;&nbsp;&nbsp;&nbsp; a) Inheriting (recap)  <br>\n",
    " &nbsp;&nbsp;&nbsp;&nbsp; b) Overriding Inherited Magic Methods <br>\n",
    " &nbsp;&nbsp;&nbsp;&nbsp; c) Inheriting Multiple Classes <br>\n",
    " &nbsp;&nbsp;&nbsp;&nbsp; d) In-Class Exercise #3 <br>\n",
    "4) <b>Exercises</b> <br>\n",
    " &nbsp;&nbsp;&nbsp;&nbsp; a) Making a Modular Grid <br>\n",
    " &nbsp;&nbsp;&nbsp;&nbsp; b) Class Creation for Monsters, Player, Eggs & Door <br>\n",
    " &nbsp;&nbsp;&nbsp;&nbsp; c) Moving Your Character <br>\n",
    " &nbsp;&nbsp;&nbsp;&nbsp; d) Game Ending Functionality <br>\n",
    " &nbsp;&nbsp;&nbsp;&nbsp; e) Adding Level Difficulty <br>\n",
    " &nbsp;&nbsp;&nbsp;&nbsp; f) Adding a Point System <br>"
   ]
  },
  {
   "cell_type": "markdown",
   "metadata": {},
   "source": [
    "## Creating Multiple Instances Through Loops <br>\n",
    "<p>We can use loops to create multiple instances of a single object in just a couple of lines, even just one line.</p>"
   ]
  },
  {
   "cell_type": "markdown",
   "metadata": {},
   "source": [
    "#### Using Loops"
   ]
  },
  {
   "cell_type": "code",
   "execution_count": 4,
   "metadata": {},
   "outputs": [
    {
     "name": "stdout",
     "output_type": "stream",
     "text": [
      "Max has 0 legs.\n",
      "Max has 1 legs.\n",
      "Max has 2 legs.\n",
      "Max has 3 legs.\n",
      "Max has 4 legs.\n"
     ]
    }
   ],
   "source": [
    "class Dog():\n",
    "    def __init__(self, name, legs):\n",
    "        self.name = name\n",
    "        self.legs = legs\n",
    "        \n",
    "    def printInfo(self):\n",
    "        print('{} has {} legs.'.format(self.name, self.legs))\n",
    "            \n",
    "            \n",
    "# multiple instances assigned into different variables\n",
    "# dog1 = Dog('Lassie', 4)\n",
    "# dog2 = Dog('Max', 4)\n",
    "\n",
    "# dog1.printInfo()\n",
    "# dog2.printInfo()\n",
    "\n",
    "# multiple instances using a for loop, stored into a list\n",
    "dogs = []\n",
    "\n",
    "# this loop will create 5 instances of dog with name Max, and legs of i\n",
    "for i in range(5):\n",
    "    dogs.append(Dog('Max', i))\n",
    "    \n",
    "    \n",
    "# call printInfo for each dog using another for loop\n",
    "# print(dogs)\n",
    "\n",
    "# dogs[0].printInfo()\n",
    "\n",
    "for i in range(len(dogs)):\n",
    "    dogs[i].printInfo()"
   ]
  },
  {
   "cell_type": "markdown",
   "metadata": {},
   "source": [
    "#### Using Multiple Lists with Loops"
   ]
  },
  {
   "cell_type": "code",
   "execution_count": 5,
   "metadata": {},
   "outputs": [
    {
     "name": "stdout",
     "output_type": "stream",
     "text": [
      "Max has 4 legs.\n",
      "Sam has 4 legs.\n"
     ]
    }
   ],
   "source": [
    "names = ['Max', 'Sam', 'Clifford', 'Lassie', 'Connor']\n",
    "dogs = []\n",
    "\n",
    "for i in range(len(names)):\n",
    "    dogs.append(Dog(names[i], 4))\n",
    "    \n",
    "    \n",
    "dogs[0].printInfo()\n",
    "dogs[1].printInfo()\n"
   ]
  },
  {
   "cell_type": "markdown",
   "metadata": {},
   "source": [
    "#### Using List Comprehension with Classes"
   ]
  },
  {
   "cell_type": "code",
   "execution_count": 9,
   "metadata": {},
   "outputs": [
    {
     "name": "stdout",
     "output_type": "stream",
     "text": [
      "Max has 4 legs.\n",
      "Sam has 4 legs.\n",
      "Clifford has 4 legs.\n",
      "Lassie has 4 legs.\n",
      "Connor has 4 legs.\n"
     ]
    }
   ],
   "source": [
    "dogs = [Dog(names[i], 4) for i in range(len(names))]\n",
    "\n",
    "for dog in dogs:\n",
    "    dog.printInfo()\n",
    "    \n"
   ]
  },
  {
   "cell_type": "markdown",
   "metadata": {},
   "source": [
    "#### In-Class Exercise #1 - Use List Comprehension to create multiple 'Dog' objects using the lists below... <br>\n",
    "<p>names = ['max', 'lassy', 'sammi']<br>colors=['brown', 'black', 'mix']</p>"
   ]
  },
  {
   "cell_type": "code",
   "execution_count": 11,
   "metadata": {},
   "outputs": [
    {
     "name": "stdout",
     "output_type": "stream",
     "text": [
      "max is the color brown\n",
      "lassy is the color black\n",
      "sammi is the color mix\n"
     ]
    }
   ],
   "source": [
    "names = ['max', 'lassy', 'sammi']\n",
    "colors=['brown', 'black', 'mix']\n",
    "\n",
    "class Dog():\n",
    "    def __init__(self, name, color):\n",
    "        self.name = name\n",
    "        self.color = color\n",
    "        \n",
    "    def printInfo(self):\n",
    "        print('{} is the color {}'.format(self.name, self.color))\n",
    "        \n",
    "dogs = [Dog(names[i], colors[i]) for i in range(len(names))]\n",
    "\n",
    "# print out each dogs info\n",
    "for dog in dogs:\n",
    "    dog.printInfo()"
   ]
  },
  {
   "cell_type": "markdown",
   "metadata": {},
   "source": [
    "## Magic Methods <br>\n",
    "<p>Magic methods are any method that begins and ends with two underscores... You've already seen one of them in __init__(). Magic methods are the general functionality of an object, and you have the ability to overwrite what those methods do, giving you flexibility in your program.</p>"
   ]
  },
  {
   "cell_type": "markdown",
   "metadata": {},
   "source": [
    "#### \\__str\\__ <br>\n",
    "<p>This is the output of an object when you print the object itself.</p>"
   ]
  },
  {
   "cell_type": "code",
   "execution_count": 14,
   "metadata": {},
   "outputs": [
    {
     "name": "stdout",
     "output_type": "stream",
     "text": [
      "Max is the color mix\n"
     ]
    }
   ],
   "source": [
    "class Dog():\n",
    "    def __init__(self, name, color):\n",
    "        self.name = name\n",
    "        self.color = color\n",
    "        \n",
    "    def __str__(self):\n",
    "        return '{} is the color {}'.format(self.name, self.color)\n",
    "        \n",
    "        \n",
    "dog = Dog('Max', 'mix')\n",
    "\n",
    "# access the str magic method normally\n",
    "print(dog)"
   ]
  },
  {
   "cell_type": "markdown",
   "metadata": {},
   "source": [
    "#### \\__add\\__"
   ]
  },
  {
   "cell_type": "code",
   "execution_count": 21,
   "metadata": {},
   "outputs": [
    {
     "name": "stdout",
     "output_type": "stream",
     "text": [
      "8\n"
     ]
    }
   ],
   "source": [
    "class Dog():\n",
    "    def __init__(self, name, color, legs):\n",
    "        self.name = name\n",
    "        self.color = color\n",
    "        self.legs = legs\n",
    "        \n",
    "    # override add magic method, return number of total legs\n",
    "    def __add__(self, dog):\n",
    "        return self.legs + dog.legs\n",
    "        \n",
    "\n",
    "\n",
    "dog1 = Dog('Max', 'mix', 4)\n",
    "dog2 = Dog('Lassy', 'color', 4)\n",
    "\n",
    "# num_legs = dog1 + 2\n",
    "\n",
    "# print(num_legs)\n",
    "\n",
    "num_legs = dog1 + dog2\n",
    "\n",
    "print(num_legs)"
   ]
  },
  {
   "cell_type": "markdown",
   "metadata": {},
   "source": [
    "#### Overriding Magic Methods"
   ]
  },
  {
   "cell_type": "code",
   "execution_count": null,
   "metadata": {
    "collapsed": true
   },
   "outputs": [],
   "source": [
    "# see above"
   ]
  },
  {
   "cell_type": "markdown",
   "metadata": {},
   "source": [
    "#### In-Class Exercise #2 - Google another magic method and overwrite it's functionality..."
   ]
  },
  {
   "cell_type": "code",
   "execution_count": 22,
   "metadata": {},
   "outputs": [
    {
     "name": "stdout",
     "output_type": "stream",
     "text": [
      "16\n"
     ]
    }
   ],
   "source": [
    "class Dog():\n",
    "    def __init__(self, name, color, legs):\n",
    "        self.name = name\n",
    "        self.color = color\n",
    "        self.legs = legs\n",
    "        \n",
    "    def __gt__(self, el):\n",
    "        return self.legs * el.legs\n",
    "        \n",
    "dog1 = Dog('Max', 'mix', 4)\n",
    "dog2 = Dog('Lassy', 'color', 4)\n",
    "\n",
    "greater_than = dog1 > dog2\n",
    "\n",
    "print(greater_than)\n"
   ]
  },
  {
   "cell_type": "markdown",
   "metadata": {},
   "source": [
    "## Inheritance & Method Overriding (recap)"
   ]
  },
  {
   "cell_type": "markdown",
   "metadata": {},
   "source": [
    "#### Inheriting (recap)"
   ]
  },
  {
   "cell_type": "code",
   "execution_count": 24,
   "metadata": {},
   "outputs": [
    {
     "name": "stdout",
     "output_type": "stream",
     "text": [
      "feline\n",
      "Max is part of the canine species\n"
     ]
    }
   ],
   "source": [
    "class Animal():\n",
    "    def __init__(self, species):\n",
    "        self.species = species\n",
    "        \n",
    "    def __str__(self):\n",
    "        return '{}'.format(self.species)\n",
    "    \n",
    "class Dog(Animal):\n",
    "    def __init__(self, species, name):\n",
    "        self.name = name\n",
    "        super().__init__(species)\n",
    "        \n",
    "    def __str__(self):\n",
    "        return '{} is part of the {} species'.format(self.name, self.species)\n",
    "        \n",
    "        \n",
    "lion = Animal('feline')\n",
    "dog = Dog('canine', 'Max')\n",
    "\n",
    "print(lion)\n",
    "print(dog)"
   ]
  },
  {
   "cell_type": "markdown",
   "metadata": {},
   "source": [
    "#### Overriding Inherited Magic Methods"
   ]
  },
  {
   "cell_type": "code",
   "execution_count": null,
   "metadata": {
    "collapsed": true
   },
   "outputs": [],
   "source": [
    "# see above"
   ]
  },
  {
   "cell_type": "markdown",
   "metadata": {},
   "source": [
    "#### Inheriting Multiple Classes"
   ]
  },
  {
   "cell_type": "code",
   "execution_count": 26,
   "metadata": {},
   "outputs": [
    {
     "name": "stdout",
     "output_type": "stream",
     "text": [
      "feline\n",
      "Max is part of the canine species and runs at 20 MPH\n"
     ]
    }
   ],
   "source": [
    "# Instead of super(), must specify which parent it belongs to...\n",
    "# Parent1.__init__(self, ...)\n",
    "# Parent2.__init__(self, ...)\n",
    "        \n",
    "class Physics():\n",
    "    def __init__(self, speed):\n",
    "        self.gravity = 9.8\n",
    "        self.speed = speed\n",
    "        \n",
    "\n",
    "class Animal():\n",
    "    def __init__(self, species):\n",
    "        self.species = species\n",
    "        \n",
    "    def __str__(self):\n",
    "        return '{}'.format(self.species)\n",
    "    \n",
    "class Dog(Animal, Physics):\n",
    "    def __init__(self, species, name, speed):\n",
    "        self.name = name\n",
    "        Animal.__init__(self, species)\n",
    "        Physics.__init__(self, speed)\n",
    "        \n",
    "    def __str__(self):\n",
    "        return '{} is part of the {} species and runs at {} MPH'.format(self.name, self.species, self.speed)\n",
    "    \n",
    "    \n",
    "lion = Animal('feline')\n",
    "dog = Dog('canine', 'Max', 20)\n",
    "\n",
    "print(lion)\n",
    "print(dog)"
   ]
  },
  {
   "cell_type": "markdown",
   "metadata": {},
   "source": [
    "#### In-Class Exercise #3 - Create a transportation class, a physics class, and a bus class <br>\n",
    "<p>Create a transportation class, a physics class, and a bus class... Have the Bus class inherit both the transportation class and physics class. The physics class should have an attribute of speed, and print out the speed, plus have an acceleration method. The transportation class should have a 'type_of_tran' attribute, and print the type(type_of_tran) of transportation that is being used. The bus class should have attributes that describe the bus, such as; wheels, color, size, etc. Overwrite the __str__ method so that when you print the object itself it prints out the bus information, and the speed.</p>"
   ]
  },
  {
   "cell_type": "code",
   "execution_count": 98,
   "metadata": {},
   "outputs": [
    {
     "name": "stdout",
     "output_type": "stream",
     "text": [
      "The bus has 6 wheels, is the color yellow, fits 20 people, and goes 50 MPH\n"
     ]
    }
   ],
   "source": [
    "class Physics():\n",
    "    # finish init method\n",
    "    def __init__(self, speed):\n",
    "        self.speed = speed\n",
    "        \n",
    "    def printSpeed(self):\n",
    "        print(self.speed)\n",
    "    \n",
    "    # finish the acceleration method\n",
    "    def acceleration(self, force, mass):\n",
    "        self.force = force\n",
    "        self.mass = mass\n",
    "        return self.force / self.mass\n",
    "        \n",
    "    \n",
    "    \n",
    "class Transportation():\n",
    "    def __init__(self, type_of_trans):\n",
    "        self.type_of_trans = type_of_trans\n",
    "        \n",
    "        \n",
    "    def printType(self):\n",
    "        print(type(self.type_of_tran))\n",
    "        \n",
    "        \n",
    "class Bus(Transportation, Physics):\n",
    "    def __init__(self, wheels, color, size, type_of_trans, speed):\n",
    "        self.wheels = wheels\n",
    "        self.color = color\n",
    "        self.size = size\n",
    "        Transportation.__init__(self, type_of_trans)\n",
    "        Physics.__init__(self, speed)\n",
    "        \n",
    "    def __str__(self):\n",
    "        return 'The {} has {} wheels, is the color {}, fits {} people, and goes {} MPH'.format(self.type_of_trans, self.wheels, self.color, self.size, self.speed)\n",
    "    \n",
    "\n",
    "\n",
    "school_bus = Bus(6, 'yellow', 20, 'bus', 50)    \n",
    "\n",
    "print(school_bus)\n",
    "\n"
   ]
  },
  {
   "cell_type": "markdown",
   "metadata": {},
   "source": [
    "## Exercises <br>\n",
    "<p>We'll be creating a Dungeon Monster game together, that increases in difficulty as the levels persist. The object of the game is to collect all of the eggs in the level and reach the door before getting eating by the monster(s) in the level. The game should be modular so that you can easily implement a larger scale game, or make the game more difficult.</p>"
   ]
  },
  {
   "cell_type": "markdown",
   "metadata": {},
   "source": [
    "#### Making a Modular Grid"
   ]
  },
  {
   "cell_type": "code",
   "execution_count": 150,
   "metadata": {},
   "outputs": [],
   "source": [
    "class MonsterDungeon():\n",
    "    def __init__(self, rows, cols, lives):\n",
    "        self.rows = rows\n",
    "        self.cols = cols\n",
    "        self.lives = lives\n",
    "        \n",
    "    def showGrid(self, player, monster, door):\n",
    "        # make sure you have access to coordinates in player and monster classes\n",
    "        print('Player Coords: {}'.format(player.coords))\n",
    "        print('Monster Coords: {}'.format(monster.coords))\n",
    "        print('Lives Left: {}'.format(self.lives))\n",
    "\n",
    "        \n",
    "        \n",
    "        for i in range(self.rows):\n",
    "            # print top border for eah row\n",
    "            print(' ---' * self.cols)\n",
    "            \n",
    "            for j in range(self.cols):\n",
    "                if i == player.coords[1] and j == player.coords[0] and j == self.cols - 1:\n",
    "                    print('| p ', end=\"|\")\n",
    "                elif i == player.coords[1] and j == player.coords[0]:\n",
    "                    print('| p ', end=\"\")\n",
    "                elif i == door.coords[1] and j == door.coords[0] and j == self.cols - 1:\n",
    "                    print('| d ', end=\"|\")\n",
    "                elif i == door.coords[1] and j == door.coords[0]:\n",
    "                    print('| d ', end=\"\")\n",
    "                elif i == monster.coords[1] and j == monster.coords[0] and j == self.cols - 1:\n",
    "                    print('| m ', end=\"|\")\n",
    "                elif i == monster.coords[1] and j == monster.coords[0]:\n",
    "                    print('| m ', end=\"\")\n",
    "                elif j == self.cols - 1:\n",
    "                    print('|   ', end='|')\n",
    "                else:\n",
    "                    print('|   ',end='')\n",
    "            \n",
    "            # start new row here\n",
    "            print('')\n",
    "            \n",
    "            if i == self.rows - 1:\n",
    "                # print bottom border for last row\n",
    "                print(' ---' * self.cols)\n",
    "                \n",
    "    def checkCollision(self, player, monster):\n",
    "        if player.coords == monster.coords:\n",
    "            self.lives -= 1\n",
    "            # TODO: print this statement somewhere else\n",
    "#             print('You just got eaten! You have {} lives left.'.format(self.lives))\n",
    "\n",
    "    # not sure if working correctly\n",
    "    def checkMonsterBlkDoor(self, monster, door):\n",
    "        if monster.coords == door.coords:\n",
    "            door.coords[0] = door.coords[0] - 1\n",
    "            door.coords[1] = door.coords[1] - 1\n",
    "            print('Monster has moved the door!')\n",
    "\n",
    "        \n",
    "    def checkIfPlayerNeg(self, player):\n",
    "        if player.coords[0] > (self.cols - 2):\n",
    "            self.cols = self.cols + 1\n",
    "        elif player.coords[1] > (self.rows - 2):\n",
    "            self.rows = self.rows + 1\n",
    "        elif player.coords[0] < 0:\n",
    "            player.coords[0] = player.coords[0] + 1\n",
    "            print('There is a wall there, you may not go in that direction.')\n",
    "            game_over = player.movePlayer()\n",
    "        elif player.coords[1] < 0:\n",
    "            player.coords[1] = player.coords[1] + 1\n",
    "            print('There is a wall there, you may not go in that direction.')\n",
    "            game_over = player.movePlayer()\n",
    "            \n",
    "            \n",
    "            \n",
    "    def checkLoseCondition(self):\n",
    "        if self.lives <= 0:\n",
    "            return True\n",
    "        \n",
    "    def checkWinCondition(self, player, door):\n",
    "        if player.coords == door.coords:\n",
    "            return True\n",
    "                \n",
    "# define our global variables to be used\n",
    "rows = 5\n",
    "cols = 5\n",
    "lives = 3\n",
    "game = MonsterDungeon(rows, cols, lives)\n",
    "\n",
    "# show the grid\n",
    "# game.showGrid()"
   ]
  },
  {
   "cell_type": "markdown",
   "metadata": {},
   "source": [
    "#### Class Creation for Monsters, Player, Egg & Door"
   ]
  },
  {
   "cell_type": "code",
   "execution_count": 145,
   "metadata": {},
   "outputs": [],
   "source": [
    "class Player():\n",
    "    def __init__(self, name):\n",
    "        self.name = name\n",
    "        self.coords = [0, 0] # x, y\n",
    "        \n",
    "    def movePlayer(self):\n",
    "        while True:\n",
    "            print('Type QUIT if you would like to stop playing!')\n",
    "            ans = input('Move left/right/up/down? ')\n",
    "\n",
    "            # move player based on ans taken in\n",
    "            if ans.lower() == 'quit':\n",
    "                print('Thanks for playing!')\n",
    "                return True\n",
    "            elif ans.lower() == 'up':\n",
    "                self.coords[1] -= 1\n",
    "                break\n",
    "            elif ans.lower() == 'down':\n",
    "                self.coords[1] += 1\n",
    "                break\n",
    "            elif ans.lower() == 'left':\n",
    "                self.coords[0] -= 1\n",
    "                break\n",
    "            elif ans.lower() == 'right':\n",
    "                self.coords[0] += 1\n",
    "                break\n",
    "            else:\n",
    "                print('Incorrect input, try again... ')\n",
    "                \n",
    "                # clear output after asking question\n",
    "                clear_output()\n",
    "\n",
    "        \n",
    "class Monster():\n",
    "    def __init__(self):\n",
    "        self.coords = [2, 2] # x, y\n",
    "        \n",
    "    def moveMonster(self, cols, rows):\n",
    "        self.coords = [random.randint(0, cols-1), random.randint(0, rows-1)]\n",
    "        \n",
    "        \n",
    "        \n",
    "class Door():\n",
    "    def __init__(self):\n",
    "        self.coords = [rows-1, cols-1]"
   ]
  },
  {
   "cell_type": "markdown",
   "metadata": {},
   "source": [
    "#### Display Objects in Grid (one per class)"
   ]
  },
  {
   "cell_type": "code",
   "execution_count": 152,
   "metadata": {},
   "outputs": [
    {
     "name": "stdout",
     "output_type": "stream",
     "text": [
      "Player Coords: [0, 1]\n",
      "Monster Coords: [1, 0]\n",
      "Lives Left: 2\n",
      " --- --- --- ---\n",
      "|   | m |   |   |\n",
      " --- --- --- ---\n",
      "| p |   |   |   |\n",
      " --- --- --- ---\n",
      "|   |   | d |   |\n",
      " --- --- --- ---\n",
      "|   |   |   |   |\n",
      " --- --- --- ---\n",
      "Type QUIT if you would like to stop playing!\n",
      "Move left/right/up/down? quit\n",
      "Thanks for playing!\n",
      "Would you like to play again (yes/no)? no\n",
      "Thanks for playing!\n"
     ]
    }
   ],
   "source": [
    "from IPython.display import clear_output\n",
    "import random\n",
    "\n",
    "# START OF MAIN LOOP\n",
    "while True:\n",
    "    \n",
    "\n",
    "    # define our global variables to be used\n",
    "    rows = 4\n",
    "    cols = 4\n",
    "    lives = 3\n",
    "    game_over = False\n",
    "    player = Player('Tom')\n",
    "    monster = Monster()\n",
    "    door = Door()\n",
    "    game = MonsterDungeon(rows, cols, lives)\n",
    "\n",
    "\n",
    "    while game_over != True:\n",
    "        # clear\n",
    "        clear_output()\n",
    "        \n",
    "        # show the grid\n",
    "        game.showGrid(player, monster, door)\n",
    "\n",
    "        # call player to move\n",
    "        game_over = player.movePlayer()\n",
    "        \n",
    "        game.checkIfPlayerNeg(player)\n",
    "        \n",
    "        # call monster to move, send in rows and cols\n",
    "        monster.moveMonster(cols, rows)\n",
    "        \n",
    "        # check to see if monster ate player\n",
    "        game.checkCollision(player, monster)\n",
    "        \n",
    "        # check to see if monster is blocking door\n",
    "        game.checkMonsterBlkDoor(monster, door)\n",
    "\n",
    "        # check if lives are gone, then break\n",
    "        # breaking because we don't want any other lines below this running\n",
    "        if game.checkLoseCondition():\n",
    "#             clear_output()\n",
    "            print('You lost all your lives, better luck next time!')\n",
    "            game_over = True\n",
    "        elif game.checkWinCondition(player, door):\n",
    "            print('Congratulations, you beat the monster!')\n",
    "            game_over = True\n",
    "        \n",
    "    # ask if they want to play again, if not then break out of while loop\n",
    "    ans = input('Would you like to play again (yes/no)? ')\n",
    "    \n",
    "    if ans.lower() == 'no':\n",
    "        print('Thanks for playing!')\n",
    "        break"
   ]
  },
  {
   "cell_type": "markdown",
   "metadata": {},
   "source": [
    "#### Moving Your Character"
   ]
  },
  {
   "cell_type": "code",
   "execution_count": null,
   "metadata": {},
   "outputs": [],
   "source": []
  },
  {
   "cell_type": "markdown",
   "metadata": {},
   "source": [
    "#### Game Ending Functionality"
   ]
  },
  {
   "cell_type": "code",
   "execution_count": null,
   "metadata": {
    "collapsed": true
   },
   "outputs": [],
   "source": []
  },
  {
   "cell_type": "markdown",
   "metadata": {},
   "source": [
    "#### Add Functionality to Pickup Eggs"
   ]
  },
  {
   "cell_type": "code",
   "execution_count": null,
   "metadata": {
    "collapsed": true
   },
   "outputs": [],
   "source": []
  },
  {
   "cell_type": "markdown",
   "metadata": {},
   "source": [
    "#### Adding Level Difficulty"
   ]
  },
  {
   "cell_type": "code",
   "execution_count": null,
   "metadata": {
    "collapsed": true
   },
   "outputs": [],
   "source": []
  },
  {
   "cell_type": "markdown",
   "metadata": {},
   "source": [
    "#### Adding a Point System"
   ]
  },
  {
   "cell_type": "code",
   "execution_count": null,
   "metadata": {},
   "outputs": [],
   "source": []
  }
 ],
 "metadata": {
  "kernelspec": {
   "display_name": "Python 3",
   "language": "python",
   "name": "python3"
  },
  "language_info": {
   "codemirror_mode": {
    "name": "ipython",
    "version": 3
   },
   "file_extension": ".py",
   "mimetype": "text/x-python",
   "name": "python",
   "nbconvert_exporter": "python",
   "pygments_lexer": "ipython3",
   "version": "3.7.1"
  }
 },
 "nbformat": 4,
 "nbformat_minor": 2
}
